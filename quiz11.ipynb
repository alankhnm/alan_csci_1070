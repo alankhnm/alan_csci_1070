{
 "cells": [
  {
   "cell_type": "code",
   "execution_count": 2,
   "metadata": {},
   "outputs": [],
   "source": [
    "from typing import List, Tuple"
   ]
  },
  {
   "cell_type": "code",
   "execution_count": 5,
   "metadata": {},
   "outputs": [
    {
     "name": "stdout",
     "output_type": "stream",
     "text": [
      "['a', 'b']\n"
     ]
    }
   ],
   "source": [
    "def filter_non_numeric(values: List) -> List:\n",
    "    non_numeric_values = []\n",
    "    for x in values:\n",
    "        # Checks if x is not an instance of int or float\n",
    "        if not isinstance(x, (int, float)):\n",
    "            non_numeric_values += x  # Adds non-numeric value to the list\n",
    "    return non_numeric_values\n",
    "\n",
    "# Example usage\n",
    "a = [1, 2, 'a', 'b', 7.6]\n",
    "print(filter_non_numeric(a))\n"
   ]
  },
  {
   "cell_type": "code",
   "execution_count": 6,
   "metadata": {},
   "outputs": [
    {
     "name": "stdout",
     "output_type": "stream",
     "text": [
      "[1, 2, (3, 'fizz'), 4, (5, 'buzz'), (6, 'fizz'), 7, 8, (9, 'fizz'), (10, 'buzz'), 11, (12, 'fizz'), 13, 14, (15, 'fizzbuzz')]\n"
     ]
    }
   ],
   "source": [
    "def fizzbuzz(n: int = 100) -> List:\n",
    "    results = []  #List to store the final output\n",
    "        #Iterates through numbers from 1 to n (inclusive)\n",
    "    for i in range(1, n + 1):\n",
    "        #Checks for multiples of both 3 and 5\n",
    "        if i % 3 == 0 and i % 5 == 0:\n",
    "            results.append((i, 'fizzbuzz'))\n",
    "        #Checks for multiples of 3 only\n",
    "        elif i % 3 == 0:\n",
    "            results.append((i, 'fizz'))\n",
    "        #Checks for multiples of 5 only\n",
    "        elif i % 5 == 0:\n",
    "            results.append((i, 'buzz'))\n",
    "        #For all other numbers, append the number itself\n",
    "        else:\n",
    "            results.append(i)\n",
    "    \n",
    "    return results\n",
    "\n",
    "#Example usage\n",
    "print(fizzbuzz(15))\n",
    "\n"
   ]
  }
 ],
 "metadata": {
  "kernelspec": {
   "display_name": "Python 3",
   "language": "python",
   "name": "python3"
  },
  "language_info": {
   "codemirror_mode": {
    "name": "ipython",
    "version": 3
   },
   "file_extension": ".py",
   "mimetype": "text/x-python",
   "name": "python",
   "nbconvert_exporter": "python",
   "pygments_lexer": "ipython3",
   "version": "3.9.6"
  }
 },
 "nbformat": 4,
 "nbformat_minor": 2
}
